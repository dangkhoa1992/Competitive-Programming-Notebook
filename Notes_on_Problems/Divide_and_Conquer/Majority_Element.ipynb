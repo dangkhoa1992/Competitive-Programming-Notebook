{
 "cells": [
  {
   "cell_type": "markdown",
   "metadata": {},
   "source": [
    "## [Majority Element](https://leetcode.com/problems/majority-element/)\n",
    "\n",
    "- Given an array of size n, find the majority element. \n",
    "- The majority element is the element that appears more than ⌊n/2⌋ times.\n",
    "- Examples\n",
    "\n",
    "```\n",
    "Input: [3,2,3]\n",
    "Output: 3\n",
    "\n",
    "\n",
    "Input: [2,2,1,1,1,2,2]\n",
    "Output: 2\n",
    "```\n",
    "\n",
    "#### Solution\n",
    "\n",
    "```C++\n",
    "class Solution {\n",
    "public:\n",
    "    vector<int> A;\n",
    "    int __count(int x, int l, int r) {\n",
    "        // Count occurences of x\n",
    "\n",
    "        int cnt = 0;\n",
    "        for(int i=l; i<=r; ++i) {\n",
    "            if(A[i] == x) cnt += 1;\n",
    "        }\n",
    "        return cnt;\n",
    "    }\n",
    "\n",
    "    int get_majority(int l, int r) {\n",
    "        if(l == r) return A[l];\n",
    "\n",
    "        int m = l + (r-l)/2;\n",
    "        int x_left = get_majority(l, m);\n",
    "        int x_right = get_majority(m+1, r);\n",
    "\n",
    "        // Case: 2 halves have the same majority candidate\n",
    "        if(x_left == x_right) return x_left;\n",
    "\n",
    "        // Otherwise count to know\n",
    "        int x_left_cnt = __count(x_left, l, m);\n",
    "        int x_right_cnt = __count(x_right, m+1, r);\n",
    "\n",
    "        return x_left_cnt > x_right_cnt ? x_left : x_right;\n",
    "    }\n",
    "    int majorityElement(vector<int>& nums) {\n",
    "        A = nums;\n",
    "        return get_majority(0, A.size()-1);\n",
    "    }\n",
    "};\n",
    "```"
   ]
  }
 ],
 "metadata": {
  "kernelspec": {
   "display_name": "Python 3.7",
   "language": "python",
   "name": "py37"
  },
  "language_info": {
   "codemirror_mode": {
    "name": "ipython",
    "version": 3
   },
   "file_extension": ".py",
   "mimetype": "text/x-python",
   "name": "python",
   "nbconvert_exporter": "python",
   "pygments_lexer": "ipython3",
   "version": "3.7.9"
  }
 },
 "nbformat": 4,
 "nbformat_minor": 2
}
