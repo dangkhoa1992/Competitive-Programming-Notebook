{
 "cells": [
  {
   "cell_type": "markdown",
   "metadata": {},
   "source": [
    "## [Sliding Window Maximum](https://leetcode.com/problems/sliding-window-maximum/)\n",
    "- Given an array nums, there is a sliding window of size k which is moving from the very left of the array to the very right. You can only see the k numbers in the window. Each time the sliding window moves right by one position. Return the max sliding window.\n",
    "\n",
    "- Example\n",
    "\n",
    "```\n",
    "Input: nums = [1,3,-1,-3,5,3,6,7], and k = 3\n",
    "Output: [3,3,5,5,6,7] \n",
    "Explanation: \n",
    "\n",
    "Window position                Max\n",
    "---------------               -----\n",
    "[1  3  -1] -3  5  3  6  7       3\n",
    " 1 [3  -1  -3] 5  3  6  7       3\n",
    " 1  3 [-1  -3  5] 3  6  7       5\n",
    " 1  3  -1 [-3  5  3] 6  7       5\n",
    " 1  3  -1  -3 [5  3  6] 7       6\n",
    " 1  3  -1  -3  5 [3  6  7]      7\n",
    "```\n",
    "\n",
    "#### Solution: Monotonic Queue\n",
    "- Suppose\n",
    "    + Array size N: `A = [a0, a1, a2, ..., aN-1]`\n",
    "    + Our windows size K: `W = [ai-K, ..., ai]`\n",
    "- Maintain a deque D that\n",
    "    + maintain the info (i, a[i]) -> can simplify by maintain only (i)\n",
    "    + Maintain a decreasing order `[front] Decreasing [back]` -> `Max` element always at `front()`\n",
    "\n",
    "\n",
    "\n",
    "\n",
    "```C++\n",
    "class Solution {\n",
    "public:\n",
    "    vector<int> maxSlidingWindow(vector<int> &a, int K) {\n",
    "        deque<int> D;\n",
    "\n",
    "        vector<int> ans;\n",
    "        for(int i=0; i<a.size(); ++i) {\n",
    "            // Update front: Remove all element that out of window \n",
    "            while(!D.empty() && D.front() <= i-K) D.pop_front();\n",
    "\n",
    "            // Update back: Remove all candidates < a[i] at back and add a[i] to back\n",
    "            while(!D.empty() && a[D.back()] < a[i]) D.pop_back();\n",
    "            D.push_back(i);\n",
    "\n",
    "            // get ans\n",
    "            if(i >= K-1) ans.push_back(a[D.front()]);\n",
    "        }\n",
    "\n",
    "        return ans;\n",
    "    }\n",
    "};\n",
    "```"
   ]
  }
 ],
 "metadata": {
  "kernelspec": {
   "display_name": "Python 3.7",
   "language": "python",
   "name": "py37"
  },
  "language_info": {
   "codemirror_mode": {
    "name": "ipython",
    "version": 3
   },
   "file_extension": ".py",
   "mimetype": "text/x-python",
   "name": "python",
   "nbconvert_exporter": "python",
   "pygments_lexer": "ipython3",
   "version": "3.7.9"
  }
 },
 "nbformat": 4,
 "nbformat_minor": 2
}
