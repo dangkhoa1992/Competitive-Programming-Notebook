{
 "cells": [
  {
   "cell_type": "markdown",
   "metadata": {},
   "source": [
    "## [21 Game](https://leetcode.com/problems/new-21-game/)\n",
    "- K: starts with 0 points, and draws a number while < K points.\n",
    "- W: number range [1,W]\n",
    "- N: Calc probability that has <= N points\n",
    "\n",
    "#### Examples\n",
    "\n",
    "```\n",
    "Input: N = 10, K = 1, W = 10\n",
    "Output: 1.00000\n",
    "\n",
    "Input: N = 6, K = 1, W = 10\n",
    "Output: 0.60000\n",
    "\n",
    "Input: N = 21, K = 17, W = 10\n",
    "Output: 0.73278\n",
    "```\n",
    "\n",
    "#### Solution\n",
    "\n",
    "###### Probability Normalization\n",
    "<img src=\"./img/7.jpg\" alt=\"drawing\" width=\"500\"/>\n",
    "\n",
    "##### DP tree\n",
    "<img src=\"./img/6.jpg\" alt=\"drawing\" width=\"500\"/>\n",
    "\n",
    "```C++\n",
    "class Solution {\n",
    "private:\n",
    "    bool areSame(double a, double b) {\n",
    "        return fabs(a - b) < numeric_limits<double>::epsilon();\n",
    "    }\n",
    "public:\n",
    "    int N,K,W;\n",
    "\n",
    "    vector<double> dp;\n",
    "    double get(int x) {\n",
    "        if(x > K+W) return 0.0;\n",
    "        if(K<=x && x<=N) return 1.0;\n",
    "        if(!areSame(dp[x], 0.0)) return dp[x];  \n",
    "\n",
    "        for(int i=1; i<=W; ++i)\n",
    "            dp[x] += (get(x+i) / W);\n",
    "\n",
    "        return dp[x];\n",
    "    }\n",
    "\n",
    "    double new21Game(int N_, int K_, int W_) {\n",
    "        N = N_; K = K_; W = W_;\n",
    "        dp.assign(K+W+1, 0.0);\n",
    "\n",
    "        return get(0);\n",
    "    }\n",
    "};\n",
    "```"
   ]
  }
 ],
 "metadata": {
  "kernelspec": {
   "display_name": "Python 3.7",
   "language": "python",
   "name": "py37"
  },
  "language_info": {
   "codemirror_mode": {
    "name": "ipython",
    "version": 3
   },
   "file_extension": ".py",
   "mimetype": "text/x-python",
   "name": "python",
   "nbconvert_exporter": "python",
   "pygments_lexer": "ipython3",
   "version": "3.7.9"
  }
 },
 "nbformat": 4,
 "nbformat_minor": 2
}
