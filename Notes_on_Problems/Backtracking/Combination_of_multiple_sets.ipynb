{
 "cells": [
  {
   "cell_type": "markdown",
   "metadata": {},
   "source": [
    "\n",
    "## [Combination of multiple sets](https://leetcode.com/problems/letter-combinations-of-a-phone-number/)\n",
    "\n",
    "- Given a string containing digits from 2-9 inclusive, return all possible letter combinations that the number could represent.\n",
    "\n",
    "- A mapping of digit to letters (just like on the telephone buttons) is given below.\n",
    "\n",
    "<img src=\"./img/2.png\" alt=\"drawing\" width=\"200\"/>\n",
    "\n",
    "- Example\n",
    "\n",
    "```\n",
    "Input: \"23\"\n",
    "Output: [\"ad\", \"ae\", \"af\", \"bd\", \"be\", \"bf\", \"cd\", \"ce\", \"cf\"].\n",
    "```\n",
    "\n",
    "\n",
    "#### Solution\n",
    "- Example: Input = \"23\", dfs the tree\n",
    "\n",
    "<img src=\"./img/3.jpg\" alt=\"drawing\" width=\"600\"/>\n",
    "\n",
    "```C++\n",
    "string digits = \"234\";\n",
    "int N = digits.size();\n",
    "\n",
    "unordered_map<char, vector<char>> numChar = {\n",
    "    {'2', {'a', 'b', 'c'}},\n",
    "    {'3', {'d', 'e', 'f'}},\n",
    "    {'4', {'g', 'h', 'i'}},\n",
    "    {'5', {'j', 'k', 'l'}},\n",
    "    {'6', {'m', 'n', 'o'}},\n",
    "    {'7', {'p', 'q', 'r', 's'}},\n",
    "    {'8', {'t', 'u', 'v'}},\n",
    "    {'9', {'w', 'x', 'y', 'z'}}\n",
    "};\n",
    "\n",
    "string s;\n",
    "void dfs(int x) {\n",
    "    if(x == N) {\n",
    "        cout << s << endl;\n",
    "        return;\n",
    "    }\n",
    "\n",
    "    for(auto c:numChar[digits[x]]) {\n",
    "        s.push_back(c);\n",
    "        dfs(x+1);\n",
    "        s.pop_back();\n",
    "    }\n",
    "}\n",
    "\n",
    "```"
   ]
  }
 ],
 "metadata": {
  "kernelspec": {
   "display_name": "Python 3.7",
   "language": "python",
   "name": "py37"
  },
  "language_info": {
   "codemirror_mode": {
    "name": "ipython",
    "version": 3
   },
   "file_extension": ".py",
   "mimetype": "text/x-python",
   "name": "python",
   "nbconvert_exporter": "python",
   "pygments_lexer": "ipython3",
   "version": "3.7.9"
  }
 },
 "nbformat": 4,
 "nbformat_minor": 2
}
