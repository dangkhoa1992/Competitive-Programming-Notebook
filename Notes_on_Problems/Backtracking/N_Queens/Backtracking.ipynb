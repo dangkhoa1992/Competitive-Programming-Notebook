{
 "cells": [
  {
   "cell_type": "markdown",
   "metadata": {},
   "source": [
    "## N-Queens backtracking"
   ]
  },
  {
   "cell_type": "markdown",
   "metadata": {},
   "source": [
    "- Place Queen by columns\n",
    "<img src=\"./img/1.jpg\" alt=\"drawing\" style=\"width:150px;\"/>\n",
    "\n",
    "- Check feasible O(N)\n",
    "<img src=\"./img/2.jpg\" alt=\"drawing\" style=\"width:600px;\"/>"
   ]
  },
  {
   "cell_type": "markdown",
   "metadata": {},
   "source": [
    "```C++\n",
    "const int N = 4;\n",
    "int board[N][N];\n",
    "void printResult() {\n",
    "    for(int i=0; i<N; ++i) {\n",
    "        for(int j=0; j<N; ++j)\n",
    "            cout << board[i][j] << ' ';\n",
    "        cout <<  endl;\n",
    "    }\n",
    "    cout <<  endl;\n",
    "}\n",
    "\n",
    "\n",
    "bool canPlace(int r, int c) {\n",
    "    // Check row O(n)\n",
    "    for(int j=c-1; j>=0; --j) \n",
    "        if(board[r][j] == 1)\n",
    "            return false;\n",
    "\n",
    "    // check upper \\ diag O(n)\n",
    "    for(int i=r, j=c; i>=0 && j>=0; --i, --j) \n",
    "        if(board[i][j] == 1) \n",
    "            return false;\n",
    "\n",
    "    // Check lower / diag O(n)\n",
    "    for(int i=r, j=c; i<N && j>=0; ++i, --j)\n",
    "        if(board[i][j] == 1)\n",
    "            return false;\n",
    "\n",
    "    return true;\n",
    "}\n",
    "bool place(int c) {\n",
    "    // Found a solution\n",
    "    if(c == N) {\n",
    "        printResult();\n",
    "\n",
    "        // Remove return true to print all results\n",
    "        return true;\n",
    "    }\n",
    "\n",
    "    // Find a feasible row for each queen\n",
    "    for(int r=0; r<N; ++r) {\n",
    "        if(canPlace(r, c)) {\n",
    "            // place the queen\n",
    "            board[r][c] = 1;\n",
    "\n",
    "            // place next queen, next col\n",
    "            if(place(c+1)) return true;\n",
    "\n",
    "            // If next queen fail -> Backtrack\n",
    "            board[r][c] = 0;\n",
    "        }\n",
    "    }\n",
    "\n",
    "    // Fail in all attemps\n",
    "    return false;\n",
    "}\n",
    "\n",
    "\n",
    "void solve() {\n",
    "    // Reset board\n",
    "    memset(board, 0, sizeof(board));\n",
    "\n",
    "    // Start with Col 0\n",
    "    place(0);\n",
    "}\n",
    "```"
   ]
  }
 ],
 "metadata": {
  "kernelspec": {
   "display_name": "Python 3.7",
   "language": "python",
   "name": "py37"
  },
  "language_info": {
   "codemirror_mode": {
    "name": "ipython",
    "version": 3
   },
   "file_extension": ".py",
   "mimetype": "text/x-python",
   "name": "python",
   "nbconvert_exporter": "python",
   "pygments_lexer": "ipython3",
   "version": "3.7.9"
  }
 },
 "nbformat": 4,
 "nbformat_minor": 2
}
