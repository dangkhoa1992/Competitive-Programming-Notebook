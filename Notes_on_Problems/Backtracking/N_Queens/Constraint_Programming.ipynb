{
 "cells": [
  {
   "cell_type": "markdown",
   "metadata": {},
   "source": [
    "## N-Queens Constraint Programming"
   ]
  },
  {
   "cell_type": "markdown",
   "metadata": {},
   "source": [
    "- Place Queen by columns\n",
    "<img src=\"./img/1.jpg\" alt=\"drawing\" style=\"width:250px;\"/>\n",
    "\n",
    "- Define constraints, check in O(1)\n",
    "<img src=\"./img/3.jpg\" alt=\"drawing\" style=\"width:300px;\"/>\n",
    "<img src=\"./img/4.jpg\" alt=\"drawing\" style=\"width:400px;\"/>"
   ]
  },
  {
   "cell_type": "markdown",
   "metadata": {},
   "source": [
    "```C++\n",
    "const int N = 4;\n",
    "int board[N][N];\n",
    "void printResult() {\n",
    "    for(int i=0; i<N; ++i) {\n",
    "        for(int j=0; j<N; ++j)\n",
    "            cout << board[i][j] << ' ';\n",
    "        cout <<  endl;\n",
    "    }\n",
    "    cout <<  endl;\n",
    "}\n",
    "\n",
    "\n",
    "bool row[N];\n",
    "\n",
    "int slashCode[N][N];\n",
    "bool slash[2*N - 1];\n",
    "\n",
    "int backslashCode[N][N];\n",
    "bool backSlash[2*N - 1];\n",
    "bool canPlace(int r, int c) {\n",
    "    // Check row, slash, backslash constraints O(1)\n",
    "    if(row[r] ||\n",
    "       slash[slashCode[r][c]] || \n",
    "       backSlash[backslashCode[r][c]]) \n",
    "        return false;\n",
    "\n",
    "    return true;\n",
    "}\n",
    "bool place(int c) {\n",
    "    // Found a solution\n",
    "    if(c == N) {\n",
    "        printResult();\n",
    "\n",
    "        // Remove return true to print all results\n",
    "        return true;\n",
    "    }\n",
    "\n",
    "    // Find a feasible row for each queen\n",
    "    for(int r=0; r<N; ++r) {\n",
    "        if(canPlace(r, c)) {\n",
    "            // place the queen and Update constraints\n",
    "            board[r][c] = 1;\n",
    "            row[r] = true;\n",
    "            slash[slashCode[r][c]] = true; \n",
    "            backSlash[backslashCode[r][c]] = true;\n",
    "\n",
    "            // place next queen to next col\n",
    "            if(place(c+1)) return true;\n",
    "\n",
    "            // If next queen fail -> Backtrack and Remove constraints\n",
    "            board[r][c] = 0; \n",
    "            row[r] = false; \n",
    "            slash[slashCode[r][c]] = false; \n",
    "            backSlash[backslashCode[r][c]] = false;\n",
    "        }\n",
    "    }\n",
    "\n",
    "    // Fail in all attemps\n",
    "    return false;\n",
    "}\n",
    "\n",
    "void solve() {\n",
    "    // Reset board\n",
    "    memset(board, 0, sizeof(board));\n",
    "    memset(row, false, sizeof(row));\n",
    "    memset(slash, false, sizeof(slash));\n",
    "    memset(backSlash, false, sizeof(backSlash));\n",
    "\n",
    "    // Setup constraints\n",
    "    for(int r=0; r<N; ++r) for (int c=0; c<N; ++c) {\n",
    "        slashCode[r][c] = r + c, \n",
    "        backslashCode[r][c] = r - c + N-1;\n",
    "    }\n",
    "\n",
    "    // Start with Col 0\n",
    "    place(0);\n",
    "}\n",
    "```"
   ]
  }
 ],
 "metadata": {
  "kernelspec": {
   "display_name": "Python 3.6",
   "language": "python",
   "name": "py36"
  },
  "language_info": {
   "codemirror_mode": {
    "name": "ipython",
    "version": 3
   },
   "file_extension": ".py",
   "mimetype": "text/x-python",
   "name": "python",
   "nbconvert_exporter": "python",
   "pygments_lexer": "ipython3",
   "version": "3.6.6"
  }
 },
 "nbformat": 4,
 "nbformat_minor": 2
}
