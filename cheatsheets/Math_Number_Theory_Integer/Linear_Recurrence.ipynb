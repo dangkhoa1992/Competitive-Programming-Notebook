{
 "cells": [
  {
   "cell_type": "markdown",
   "metadata": {},
   "source": [
    "## $O(k^3log(n))$\n",
    "\n",
    "\n",
    "#### Fibonnaci, k=2\n",
    "$$f_0 = 0$$\n",
    "$$f_1 = 1$$\n",
    "$$f_n = f_{n-1} + f_{n-2}$$\n",
    "\n",
    "```\n",
    "We have 2 equations:\n",
    "        f(n)   = f(n-1) + f(n-2)\n",
    "        f(n-1) = f(n-1)\n",
    "\n",
    "By turning them into matrix realtion. we get:\n",
    "        | f(n)   |     | 1 1 |     | f(n-1) |\n",
    "        | f(n-1) |  =  | 1 0 |  *  | f(n-2) |\n",
    "\n",
    "Since we can compute an matrix exponent by O(log(n)), Simplify the relations into exponents\n",
    "        | f(n)   |     | 1 1 |^(n-1)     | f(1) |\n",
    "        | f(n-1) |  =  | 1 0 |       *   | f(0) |\n",
    "```\n",
    "\n",
    "#### Tribonnaci, k=3\n",
    "$$F(n) = a*F(n-1) + b*F(n-2) + c*F(n-3)$$\n",
    "\n",
    "```\n",
    "We have 3 equations:\n",
    "        f(n)   = a*f(n-1) + b*f(n-2) + c*f(n-3)\n",
    "        f(n-1) = f(n-1)\n",
    "        f(n-2) =          f(n-2)\n",
    "\n",
    "By turning them into matrix realtion. we get:\n",
    "        | f(n)   |     | a b c |     | f(n-1) |\n",
    "        | f(n-1) |  =  | 1 0 0 |  *  | f(n-2) |\n",
    "        | f(n-2) |     | 0 1 0 |     | f(n-3) |\n",
    "\n",
    "Since we can compute an matrix exponent by O(log(n)), Simplify the relation into exponents\n",
    "        | f(n)   |     | a b c |^(n-2)     | f(2) |\n",
    "        | f(n-1) |  =  | 1 0 0 |       *   | f(1) |\n",
    "        | f(n-2) |     | 0 1 0 |           | f(0) |\n",
    "\t\t\n",
    "```"
   ]
  }
 ],
 "metadata": {
  "kernelspec": {
   "display_name": "Python 3.6",
   "language": "python",
   "name": "py36"
  },
  "language_info": {
   "codemirror_mode": {
    "name": "ipython",
    "version": 3
   },
   "file_extension": ".py",
   "mimetype": "text/x-python",
   "name": "python",
   "nbconvert_exporter": "python",
   "pygments_lexer": "ipython3",
   "version": "3.6.6"
  }
 },
 "nbformat": 4,
 "nbformat_minor": 2
}
