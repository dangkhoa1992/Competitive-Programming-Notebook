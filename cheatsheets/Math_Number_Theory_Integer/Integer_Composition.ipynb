{
 "cells": [
  {
   "cell_type": "markdown",
   "metadata": {},
   "source": [
    "## Integer Composition\n",
    "\n",
    "#### Definition\n",
    "- An integer n (n $\\subset Z_0$) can be presented as an **ordered** sum\n",
    "$$n=a_1+a_2+...+a_k$$\n",
    "\n",
    "- $a_1, a_2, ..., a_k$ $\\subset Z_0$\n",
    "- Example\n",
    "```\n",
    "    1 = 1\n",
    "    2 = 1+1\n",
    "    3 = 2+1 = 1+2 = 1+1+1\n",
    "    4 = 3+1 = 1+3 = 2+2 = 2+1+1 = 1+2+1 = 1+1+2 = 1+1+1+1\n",
    "```\n",
    "\n",
    "#### Properties\n",
    "- Total number of compositions:\n",
    "$$T(n) = 2^{n-1}$$\n",
    "- Number of compositions that have k summands:\n",
    "$$t(n,k) = C^{k-1}_{n-1}$$\n",
    "    + Eg: $t(4,2) = C^1_3 = 3$ (3+1, 1+3, 2+2)"
   ]
  }
 ],
 "metadata": {
  "kernelspec": {
   "display_name": "Python 3.6",
   "language": "python",
   "name": "py36"
  },
  "language_info": {
   "codemirror_mode": {
    "name": "ipython",
    "version": 3
   },
   "file_extension": ".py",
   "mimetype": "text/x-python",
   "name": "python",
   "nbconvert_exporter": "python",
   "pygments_lexer": "ipython3",
   "version": "3.6.6"
  }
 },
 "nbformat": 4,
 "nbformat_minor": 2
}
