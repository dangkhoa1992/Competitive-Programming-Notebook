{
 "cells": [
  {
   "cell_type": "markdown",
   "metadata": {},
   "source": [
    "## Tree Diagram\n",
    "<img src=\"./assets/2.jpg\" width=\"550\"/>\n"
   ]
  },
  {
   "cell_type": "markdown",
   "metadata": {},
   "source": [
    "# Conditional Probability as Tree diagram\n",
    "\n",
    "<img src=\"./assets/3.png\" width=\"550\"/>\n",
    "<img src=\"./assets/4.jpg\" width=\"550\"/>\n"
   ]
  },
  {
   "cell_type": "markdown",
   "metadata": {},
   "source": [
    "## Ice-cream Stall\n",
    "- A stall has infinite ice-creams and only 2 soft-drink bottles left\n",
    "    + You are the last one on a queue of 4 people\n",
    "    + Each people in front of you have the probability to order(1 ice-cream or 1 soft-drink)\n",
    "        + P(ice-cream) = 0.6\n",
    "        + P(soft-drink) = 0.4\n",
    "    + You want to order a soft-drink. Calculate the Prob\n",
    "    \n",
    "#### Solution\n",
    "\n",
    "<img src=\"./assets/5.jpg\" width=\"900\"/>\n"
   ]
  },
  {
   "cell_type": "markdown",
   "metadata": {},
   "source": [
    "## Monty Hall\n",
    "- 3 doors `[1,2,3]`, 1 door has a big prize inside, 2 doors are empty\n",
    "- Steps:\n",
    "    + 1) Contestant picks 1 door (Not opening it yet)\n",
    "    + 2) Host open a door, reveal it is empty\n",
    "    + 3) Contestant now can `Keep the initial choice` or `Switch to the rest door`\n",
    "\n",
    "- Find the best strategy: `Not switch` or `Switch` \n",
    "\n",
    "#### Solution\n",
    "- Not switch: P(winning) = 1/3\n",
    "\n",
    "- Switch: P(winning) = 2/3\n",
    "\n",
    "<img src=\"./assets/1.jpg\" width=\"900\"/>\n"
   ]
  }
 ],
 "metadata": {
  "kernelspec": {
   "display_name": "Python 3.7",
   "language": "python",
   "name": "py37"
  },
  "language_info": {
   "codemirror_mode": {
    "name": "ipython",
    "version": 3
   },
   "file_extension": ".py",
   "mimetype": "text/x-python",
   "name": "python",
   "nbconvert_exporter": "python",
   "pygments_lexer": "ipython3",
   "version": "3.7.9"
  }
 },
 "nbformat": 4,
 "nbformat_minor": 2
}
