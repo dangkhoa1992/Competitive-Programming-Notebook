{
 "cells": [
  {
   "cell_type": "markdown",
   "metadata": {},
   "source": [
    "#### Segment model\n",
    "```C++\n",
    "struct Segment {\n",
    "    int id;\n",
    "    int start;\n",
    "    int end;\n",
    "    Segment() : id(0), start(0), end(0) {}\n",
    "    Segment(int id, int s, int e) : id(id), start(s), end(e) {}\n",
    "};\n",
    "vector<Segment> segments;\n",
    "```\n",
    "\n",
    "#### Intersection model\n",
    "<img src=\"./img/1.jpg\" alt=\"drawing\" width=\"950\"/>\n",
    "\n",
    "\n",
    "```C++\n",
    "// Coordinate\n",
    "set<int> P; \n",
    "\n",
    "// coordinate -> (num_start, num_end)\n",
    "unordered_map<int,int> start, end; // num_start, num_end\n",
    "\n",
    "// coordinate -> (segment_id_starts[])\n",
    "unordered_map<int, set<int>> start_ids;\n",
    "\n",
    "// coordinate -> (segment_id_ends[])\n",
    "unordered_map<int, set<int>> end_ids;\n",
    "```"
   ]
  }
 ],
 "metadata": {
  "kernelspec": {
   "display_name": "Python 3.6",
   "language": "python",
   "name": "py36"
  },
  "language_info": {
   "codemirror_mode": {
    "name": "ipython",
    "version": 3
   },
   "file_extension": ".py",
   "mimetype": "text/x-python",
   "name": "python",
   "nbconvert_exporter": "python",
   "pygments_lexer": "ipython3",
   "version": "3.6.9"
  }
 },
 "nbformat": 4,
 "nbformat_minor": 2
}
