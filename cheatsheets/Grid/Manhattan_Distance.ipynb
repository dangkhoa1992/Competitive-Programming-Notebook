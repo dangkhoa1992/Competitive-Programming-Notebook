{
 "cells": [
  {
   "cell_type": "markdown",
   "metadata": {},
   "source": [
    "## Manhattan Distance\n",
    "\n",
    "- The Manhattan distance between two squares (x1,y1) and (x2,y2) is defined as\n",
    "$$dist((x1,y1), (x2,y2)) =  |x1 - x2| + |y1 - y2|$$\n"
   ]
  },
  {
   "cell_type": "markdown",
   "metadata": {},
   "source": [
    "## 2nd equation\n",
    "\n",
    "$$dist((x1, y1), (x2,y2)) = max(|(x1+y1) - (x2+y2)|, |(x1-y1) - (x2-y2)|)$$\n",
    "\n",
    "```C++\n",
    "int calculate_MH_dist(int x1, int y1, int x2, int y2) {\n",
    "    return max(\n",
    "        abs((x1+y1) - (x2+y2)), abs((x1-y1) - (x2-y2)));\n",
    "}\n",
    "```"
   ]
  }
 ],
 "metadata": {
  "kernelspec": {
   "display_name": "Python 3.6",
   "language": "python",
   "name": "py36"
  },
  "language_info": {
   "codemirror_mode": {
    "name": "ipython",
    "version": 3
   },
   "file_extension": ".py",
   "mimetype": "text/x-python",
   "name": "python",
   "nbconvert_exporter": "python",
   "pygments_lexer": "ipython3",
   "version": "3.6.6"
  }
 },
 "nbformat": 4,
 "nbformat_minor": 2
}
