{
 "cells": [
  {
   "cell_type": "markdown",
   "metadata": {},
   "source": [
    "## Manhattan Distance\n",
    "\n",
    "- The Manhattan distance between two squares (x1,y1) and (x2,y2) is defined as\n",
    "$$dist((x1,y1), (x2,y2)) =  |x1 - x2| + |y1 - y2|$$\n",
    "\n",
    "#### Mahattan distance\n",
    "- dist(P) = dist(P.X) + dist(P.Y) = |X| + |Y|\n",
    "\n",
    "#### Another equation\n",
    "\n",
    "$$dist((x1, y1), (x2,y2)) = max(|(x1+y1) - (x2+y2)|, |(x1-y1) - (x2-y2)|)$$\n",
    "\n",
    "```C++\n",
    "int calculate_MH_dist(int x1, int y1, int x2, int y2) {\n",
    "    return max(\n",
    "        abs((x1+y1) - (x2+y2)), abs((x1-y1) - (x2-y2)));\n",
    "}\n",
    "```"
   ]
  }
 ],
 "metadata": {
  "kernelspec": {
   "display_name": "Python 3.7",
   "language": "python",
   "name": "py37"
  },
  "language_info": {
   "codemirror_mode": {
    "name": "ipython",
    "version": 3
   },
   "file_extension": ".py",
   "mimetype": "text/x-python",
   "name": "python",
   "nbconvert_exporter": "python",
   "pygments_lexer": "ipython3",
   "version": "3.7.9"
  }
 },
 "nbformat": 4,
 "nbformat_minor": 2
}
