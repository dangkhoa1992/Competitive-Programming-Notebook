{
 "cells": [
  {
   "cell_type": "markdown",
   "metadata": {},
   "source": [
    "## Binomial coefficients $C^k_n$\n",
    "\n",
    "$$C^k_n = \\frac{n!}{k!(n-k)!}$$\n",
    "- Properties 1\n",
    "    + Divide a set of n elements into two subsets\n",
    "    + the first contains k elements \n",
    "    + the second contains n − k elements.\n",
    "$$C_n^k = C^{n-k}_n$$\n",
    "\n",
    "- Properties 2\n",
    "    + fix an element x in the set\n",
    "    + If x is included in the subset, we have to choose k − 1 elements from n − 1 elements\n",
    "    + If x is not included in the subset, we have to choose k elements from n − 1 elements.\n",
    "$$C^k_n = C^{k-1}_{n-1} + C^{k}_{n-1}$$"
   ]
  },
  {
   "cell_type": "markdown",
   "metadata": {},
   "source": [
    "### Sum of binomial coefficients\n",
    "$$(a+b)^n = C^0_na^nb^0 + C^1_na^{n-1}b^1 + C^2_na^{n-2}b^2 + ... + C^{n-1}_na^1b^{n-1} + C_n^na^0b^n$$\n",
    "- a = b = 1\n",
    "$$C^0_n + C^1_n + C^2_n + ... + C^n_n = 2^n$$\n",
    "- a = 1, b = -1\n",
    "$$C^0_n + C^2_n + C^4_n + ... = C^1_n + C^3_n + C^5_n + ...$$"
   ]
  }
 ],
 "metadata": {
  "kernelspec": {
   "display_name": "Python 3.6",
   "language": "python",
   "name": "py36"
  },
  "language_info": {
   "codemirror_mode": {
    "name": "ipython",
    "version": 3
   },
   "file_extension": ".py",
   "mimetype": "text/x-python",
   "name": "python",
   "nbconvert_exporter": "python",
   "pygments_lexer": "ipython3",
   "version": "3.6.6"
  }
 },
 "nbformat": 4,
 "nbformat_minor": 2
}
