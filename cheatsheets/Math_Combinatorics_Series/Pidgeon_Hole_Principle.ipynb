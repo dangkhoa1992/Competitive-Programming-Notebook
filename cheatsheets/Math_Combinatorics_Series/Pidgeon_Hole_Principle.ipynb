{
 "cells": [
  {
   "cell_type": "markdown",
   "metadata": {},
   "source": [
    "## Pidgeon hole principle\n",
    "- n containers\n",
    "- k objects which k >= (n+1)\n",
    "```\n",
    "=> At least 1 container have >= 2 objects\n",
    "```\n",
    "\n",
    "#### Example\n",
    "- 367 people in the same room\n",
    "- People = objects (367), days in year(366) = containers\n",
    "```\n",
    "=> At least 2 people have the same birthday\n",
    "```"
   ]
  },
  {
   "cell_type": "markdown",
   "metadata": {},
   "source": [
    "## Generalized Pidgeon hole principle\n",
    "- n containers\n",
    "- k objects\n",
    "```\n",
    "=> At least 1 container have [k/n] objects\n",
    "```"
   ]
  },
  {
   "cell_type": "markdown",
   "metadata": {},
   "source": [
    "## Birthday Paradox\n",
    "- How many people in the same room that the probability that at least 2 people have the same birthday > 0.5\n",
    "- Solution\n",
    "    + n = number of people\n",
    "    + $p_n$ = probability that n people have different birthday\n",
    "$$p_n = \\frac{366}{366}\\frac{365}{366}\\frac{364}{366}...\\frac{366-n}{366}$$\n",
    "    + $1-p_n$ = probability that at least 2 people in n people have the same birthday\n",
    "$$1-p_n = 1-\\frac{366}{366}\\frac{365}{366}\\frac{364}{366}...\\frac{366-n}{366} > 0.5$$\n",
    "```\n",
    "=> 23 people\n",
    "```"
   ]
  },
  {
   "cell_type": "code",
   "execution_count": 2,
   "metadata": {},
   "outputs": [
    {
     "name": "stdout",
     "output_type": "stream",
     "text": [
      "p(23) = 0.5063230118194602\n"
     ]
    },
    {
     "data": {
      "image/png": "[encoded data removed]",
      "text/plain": [
       "<Figure size 432x288 with 1 Axes>"
      ]
     },
     "metadata": {},
     "output_type": "display_data"
    }
   ],
   "source": [
    "import matplotlib.pyplot as plt\n",
    "import numpy as np\n",
    "\n",
    "def birthday(n):\n",
    "    res = 1.0\n",
    "    for i in range(n):\n",
    "        res *= (366.0 - i) / 366.0\n",
    "    return 1.0 - res\n",
    "\n",
    "print('p(23) =', birthday(23))\n",
    "p = np.array([birthday(i) for i in range(366)])\n",
    "plt.plot(p)\n",
    "plt.show();"
   ]
  }
 ],
 "metadata": {
  "kernelspec": {
   "display_name": "Python 3.6",
   "language": "python",
   "name": "py36"
  },
  "language_info": {
   "codemirror_mode": {
    "name": "ipython",
    "version": 3
   },
   "file_extension": ".py",
   "mimetype": "text/x-python",
   "name": "python",
   "nbconvert_exporter": "python",
   "pygments_lexer": "ipython3",
   "version": "3.6.6"
  }
 },
 "nbformat": 4,
 "nbformat_minor": 2
}
