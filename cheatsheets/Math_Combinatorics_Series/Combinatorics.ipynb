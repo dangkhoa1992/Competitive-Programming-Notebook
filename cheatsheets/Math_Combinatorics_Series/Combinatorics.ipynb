{
 "cells": [
  {
   "cell_type": "markdown",
   "metadata": {},
   "source": [
    "## Binomial coefficients\n",
    "$$C^k_n = \\frac{n!}{k!(n-k)!} = \\frac{n(n-1)(n-2)...(n-k+1)}{k(k-1)(k-2)...1}$$\n",
    "\n",
    "- Properties\n",
    "\n",
    "$$C^k_n = C^{k-1}_{n-1} + C^k_{n-1}$$\n",
    "$$C^{k}_{n} = C^{n-k}_n$$\n",
    "$$C^{0}_{n} = C^{n}_n = 1$$"
   ]
  },
  {
   "cell_type": "markdown",
   "metadata": {},
   "source": [
    "## Binomial theorem\n",
    "$$(a+b)^n = C_n^0a^nb^0 + C_n^1a^{n-1}b^1 + ... + C^k_na^{n-k}b^k + ... + C_n^na^0b^n = \\sum\\limits_{k=0}^{n}C^k_na^{n-k}b^k$$\n",
    "\n",
    "- Examples\n",
    "    + a = 1, b = x \n",
    "$$(1+x)^n = C^0_nx^0 + C^1_nx^1 + ... + C^k_nx^k + ... + C_n^nx^n = \\sum\\limits_{k=0}^{n}C^k_nx^k $$\n",
    "\n",
    "    + a = 1, b = 1\n",
    "$$2^n = C^0_n + C^1_n + ... + C^k_n + ... + C^n_n = \\sum\\limits_{k=0}^{n}C^k_n$$\n",
    "\n",
    "    + a = 1, b = -1\n",
    "$$0 = C^0_n - C^1_n + C^2_n - C^3_n + ... + (-1)^kC_n^k + ... + (-1)^nC_n^n = \\sum\\limits_{k=0}^{n}(-1)^kC_n^k$$\n",
    "\n",
    "    + n = 2\n",
    "$$(x+y)^2 = x^2 + 2xy + y^2$$\n",
    "\n",
    "    + n = 3\n",
    "$$(x+y)^3 = x^3 + 3x^2y + 3xy^2 + y^3$$"
   ]
  },
  {
   "cell_type": "markdown",
   "metadata": {},
   "source": [
    "## Combinatorics and statistics\n",
    "- There are $C^k_n$ ways to choose k elements from a set of n elements. (Set)\n",
    "- There are $C^k_{n+k-1}$ ways to choose k elements from a set of n elements if repetitions are allowed. (Multiset)\n",
    "- There are $C^k_{n+k}$ strings containing k ones and n zeros.\n",
    "- There are $C^k_{n+1}$ strings consisting of k ones and n zeros such that no two ones are adjacent\n"
   ]
  },
  {
   "cell_type": "markdown",
   "metadata": {},
   "source": [
    "## Catalan Number\n",
    "$$\\frac{1}{n+1}C^n_{2n}$$"
   ]
  },
  {
   "cell_type": "markdown",
   "metadata": {},
   "source": [
    "## Bionomial Distribution\n",
    "\n",
    "$$C_n^kp^k(1-p)^{n-k}$$"
   ]
  }
 ],
 "metadata": {
  "kernelspec": {
   "display_name": "Python 3.6",
   "language": "python",
   "name": "py36"
  },
  "language_info": {
   "codemirror_mode": {
    "name": "ipython",
    "version": 3
   },
   "file_extension": ".py",
   "mimetype": "text/x-python",
   "name": "python",
   "nbconvert_exporter": "python",
   "pygments_lexer": "ipython3",
   "version": "3.6.6"
  }
 },
 "nbformat": 4,
 "nbformat_minor": 2
}
