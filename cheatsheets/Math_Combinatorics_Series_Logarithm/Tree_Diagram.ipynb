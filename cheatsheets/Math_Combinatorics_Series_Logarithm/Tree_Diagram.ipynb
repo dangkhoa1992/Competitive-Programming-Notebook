{
 "cells": [
  {
   "cell_type": "markdown",
   "metadata": {},
   "source": [
    "## Counting\n",
    "- Count number of the bit strings\n",
    "    + size = 4\n",
    "    + without 2 consecutive bit '1'\n",
    "    \n",
    "#### Solution\n",
    "- 8\n",
    "<img src=\"./img/6.jpg\" alt=\"drawing\" width=\"350\"/>\n"
   ]
  }
 ],
 "metadata": {
  "kernelspec": {
   "display_name": "Python 3.6",
   "language": "python",
   "name": "py36"
  },
  "language_info": {
   "codemirror_mode": {
    "name": "ipython",
    "version": 3
   },
   "file_extension": ".py",
   "mimetype": "text/x-python",
   "name": "python",
   "nbconvert_exporter": "python",
   "pygments_lexer": "ipython3",
   "version": "3.6.6"
  }
 },
 "nbformat": 4,
 "nbformat_minor": 2
}
